{
 "cells": [
  {
   "cell_type": "code",
   "execution_count": null,
   "id": "e9c6693f",
   "metadata": {
    "scrolled": true
   },
   "outputs": [],
   "source": [
    "CAM_keyword_dict = {\n",
    "    \"natural immunization\": \"NIM\",\n",
    "    \"holistic healing\": \"HOH\",\n",
    "    \"herbal remedies\": \"HER\",\n",
    "    \"homeopathy\": \"HOM\",\n",
    "    \"naturopathy\": \"NAT\",\n",
    "    \"ayurveda\": \"AYU\",\n",
    "    \"aromatherapy\": \"ARO\",\n",
    "    \"spiritual healing ceremony\": \"SHC\",\n",
    "    \"osteopathy\": \"OST\",\n",
    "    \"anthroposophic medicine\": \"ANT\",\n",
    "    \"non-toxic treatments\": \"NTT\",\n",
    "    \"treatment natural ingredients\": \"TNI\",\n",
    "    \"boost immune system\": \"BIS\"\n",
    "}\n",
    "\n",
    "vaccine_keyword_dict = {\n",
    "    \"vaccine\": \"VAC\",\n",
    "    \"vaccine side-effects\": \"VSE\",\n",
    "    \"vaccine alternatives\": \"VAL\",\n",
    "    \"vaccine contamination\": \"VCO\",\n",
    "    \"vaccine autism\": \"VAU\",\n",
    "    \"vaccine immune system\": \"VIS\",\n",
    "    \"vaccine infant\": \"VAI\",\n",
    "    \"vaccine safety\": \"VAS\",\n",
    "    \"vaccine efficacy\": \"VEF\",\n",
    "    \"vaccine clinical trials\": \"VCT\",\n",
    "    \"vaccine approval process\": \"VAP\",\n",
    "    \"vaccine children\": \"CHI\",\n",
    "    \"vaccine toxin\": \"TOX\"\n",
    "}\n",
    "\n",
    "\n",
    "\n",
    "keyword_dict = CAM_keyword_dict\n",
    "keyword_dict.update(vaccine_keyword_dict)\n"
   ]
  },
  {
   "cell_type": "code",
   "execution_count": null,
   "id": "4957cae9",
   "metadata": {},
   "outputs": [],
   "source": [
    "def merge(google_results, bing_results, key, tag, subcorpus):\n",
    "    keyword_tag = key + tag\n",
    "    counter_1 = 1\n",
    "    combined_results = []\n",
    "    for google_result in google_results:\n",
    "        result_set = set()\n",
    "        result_set.update(google_result['results'])\n",
    "        for bing_result in bing_results:\n",
    "            if google_result['domain'] == bing_result['domain']:\n",
    "                result_set.update(bing_result['results'])\n",
    "        counter_2= 1\n",
    "        URL_list = []\n",
    "        for element in result_set:\n",
    "            source = []\n",
    "            if element in google_result['results']:\n",
    "                source.append('google')\n",
    "            for bing_result in bing_results:\n",
    "                if google_result['domain'] == bing_result['domain'] and element in bing_result['results']:\n",
    "                    source.append('bing')\n",
    "            URL_dict = {'result_id': keyword_tag + str(counter_1).zfill(3) + str(counter_2).zfill(3), 'URL': element, 'source': source}  \n",
    "            URL_list.append(URL_dict)\n",
    "            counter_2 = counter_2 + 1\n",
    "        search_dict = {'domain': google_result['domain'], 'domain_id': str(counter_1).zfill(3), 'keyword':google_result['key_word'], 'results': URL_list}\n",
    "        counter_1 = counter_1 + 1\n",
    "        combined_results.append(search_dict)\n",
    "        output_dir = f\"../../4_Searches/MERGED/{subcorpus}\"\n",
    "        if not os.path.exists(output_dir):\n",
    "            os.mkdir(output_dir)\n",
    "        with open(output_dir + f'/{keyword_tag}_merged_search_results.json', 'w') as f:\n",
    "            json.dump(combined_results, f)\n"
   ]
  },
  {
   "cell_type": "code",
   "execution_count": null,
   "id": "6aa25f22",
   "metadata": {},
   "outputs": [],
   "source": [
    "import json, os\n",
    "\n",
    "subcorpora = {\"PS\":\"\", \"TS\": \"M\", \"SE\": \"S\"}\n",
    "\n",
    "for subcorpus, key in subcorpora.items():\n",
    "    for keyword, tag in keyword_dict.items():\n",
    "        keyword_docs = []\n",
    "        for file in os.listdir(f\"../../4_Searches/RAW/{subcorpus}\"):\n",
    "            if keyword in file:\n",
    "                keyword_docs.append(file)\n",
    "        for doc in keyword_docs:\n",
    "            if \"Bing\" in doc:\n",
    "                path = os.path.join(f\"../../4_Searches/RAW/{subcorpus}\", doc)\n",
    "                with open(path, 'r') as bing:\n",
    "                    bing_results = json.load(bing)\n",
    "            if \"Google\" in doc:\n",
    "                path = os.path.join(f\"../../4_Searches/RAW/{subcorpus}\", doc)\n",
    "                with open(path, 'r') as google:\n",
    "                    google_results = json.load(google)\n",
    "        \n",
    "        merge(google_results, bing_results, key, tag, subcorpus)\n",
    "        "
   ]
  },
  {
   "cell_type": "code",
   "execution_count": null,
   "id": "96a672f1",
   "metadata": {},
   "outputs": [],
   "source": [
    "\n",
    "    "
   ]
  },
  {
   "cell_type": "code",
   "execution_count": null,
   "id": "7cad4e13",
   "metadata": {},
   "outputs": [],
   "source": []
  },
  {
   "cell_type": "code",
   "execution_count": null,
   "id": "7315928c",
   "metadata": {},
   "outputs": [],
   "source": [
    "\n",
    "        "
   ]
  },
  {
   "cell_type": "code",
   "execution_count": null,
   "id": "5dab44e5",
   "metadata": {},
   "outputs": [],
   "source": []
  },
  {
   "cell_type": "code",
   "execution_count": null,
   "id": "305892e1",
   "metadata": {},
   "outputs": [],
   "source": []
  },
  {
   "cell_type": "code",
   "execution_count": null,
   "id": "e04a7a78",
   "metadata": {},
   "outputs": [],
   "source": []
  },
  {
   "cell_type": "code",
   "execution_count": null,
   "id": "a0989679",
   "metadata": {},
   "outputs": [],
   "source": []
  },
  {
   "cell_type": "code",
   "execution_count": null,
   "id": "f12e7bb1",
   "metadata": {},
   "outputs": [],
   "source": []
  },
  {
   "cell_type": "code",
   "execution_count": null,
   "id": "86c28bd5",
   "metadata": {},
   "outputs": [],
   "source": []
  },
  {
   "cell_type": "code",
   "execution_count": null,
   "id": "41919152",
   "metadata": {},
   "outputs": [],
   "source": []
  },
  {
   "cell_type": "code",
   "execution_count": null,
   "id": "97bec561",
   "metadata": {},
   "outputs": [],
   "source": []
  },
  {
   "cell_type": "code",
   "execution_count": null,
   "id": "de41f18f",
   "metadata": {},
   "outputs": [],
   "source": []
  },
  {
   "cell_type": "code",
   "execution_count": null,
   "id": "fa65d3c7",
   "metadata": {},
   "outputs": [],
   "source": []
  },
  {
   "cell_type": "code",
   "execution_count": null,
   "id": "eca71f9f",
   "metadata": {},
   "outputs": [],
   "source": []
  },
  {
   "cell_type": "code",
   "execution_count": null,
   "id": "9d7e7971",
   "metadata": {},
   "outputs": [],
   "source": []
  },
  {
   "cell_type": "code",
   "execution_count": null,
   "id": "370f503f",
   "metadata": {},
   "outputs": [],
   "source": []
  },
  {
   "cell_type": "code",
   "execution_count": null,
   "id": "114bb81e",
   "metadata": {},
   "outputs": [],
   "source": []
  },
  {
   "cell_type": "code",
   "execution_count": null,
   "id": "cd8ab1fa",
   "metadata": {
    "scrolled": false
   },
   "outputs": [],
   "source": []
  },
  {
   "cell_type": "code",
   "execution_count": null,
   "id": "a3ae1880",
   "metadata": {},
   "outputs": [],
   "source": []
  },
  {
   "cell_type": "code",
   "execution_count": null,
   "id": "54a3d9ec",
   "metadata": {},
   "outputs": [],
   "source": []
  },
  {
   "cell_type": "code",
   "execution_count": null,
   "id": "5d2d266e",
   "metadata": {},
   "outputs": [],
   "source": []
  },
  {
   "cell_type": "code",
   "execution_count": null,
   "id": "a6f778dc",
   "metadata": {},
   "outputs": [],
   "source": []
  }
 ],
 "metadata": {
  "kernelspec": {
   "display_name": "Python 3 (ipykernel)",
   "language": "python",
   "name": "python3"
  },
  "language_info": {
   "codemirror_mode": {
    "name": "ipython",
    "version": 3
   },
   "file_extension": ".py",
   "mimetype": "text/x-python",
   "name": "python",
   "nbconvert_exporter": "python",
   "pygments_lexer": "ipython3",
   "version": "3.10.11"
  }
 },
 "nbformat": 4,
 "nbformat_minor": 5
}
