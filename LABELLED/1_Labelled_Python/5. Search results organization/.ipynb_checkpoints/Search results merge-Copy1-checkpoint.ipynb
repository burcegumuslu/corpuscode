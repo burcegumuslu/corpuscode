{
 "cells": [
  {
   "cell_type": "code",
   "execution_count": 15,
   "id": "e9c6693f",
   "metadata": {
    "scrolled": true
   },
   "outputs": [],
   "source": [
    "CAM_keyword_dict = {\n",
    "    \"natural immunization\": \"NIM\",\n",
    "    \"holistic healing\": \"HOH\",\n",
    "    \"herbal remedies\": \"HER\",\n",
    "    \"homeopathy\": \"HOM\",\n",
    "    \"naturopathy\": \"NAT\",\n",
    "    \"ayurveda\": \"AYU\",\n",
    "    \"aromatherapy\": \"ARO\",\n",
    "    \"spiritual healing ceremony\": \"SHC\",\n",
    "    \"osteopathy\": \"OST\",\n",
    "    \"anthroposophic medicine\": \"ANT\",\n",
    "    \"non-toxic treatments\": \"NTT\",\n",
    "    \"treatment natural ingredients\": \"TNI\",\n",
    "    \"boost immune system\": \"BIS\"\n",
    "}\n",
    "\n",
    "vaccine_keyword_dict = {\n",
    "    \"vaccine\": \"VAC\",\n",
    "    \"vaccine side-effects\": \"VSE\",\n",
    "    \"vaccine alternatives\": \"VAL\",\n",
    "    \"vaccine contamination\": \"VCO\",\n",
    "    \"vaccine autism\": \"VAU\",\n",
    "    \"vaccine immune system\": \"VIS\",\n",
    "    \"vaccine infant\": \"VAI\",\n",
    "    \"vaccine safety\": \"VAS\",\n",
    "    \"vaccine efficacy\": \"VEF\",\n",
    "    \"vaccine clinical trials\": \"VCT\",\n",
    "    \"vaccine approval process\": \"VAP\",\n",
    "    \"vaccine children\": \"CHI\",\n",
    "    \"vaccine toxin\": \"TOX\"\n",
    "}\n",
    "\n",
    "\n",
    "\n",
    "keyword_dict = CAM_keyword_dict\n",
    "keyword_dict.update(vaccine_keyword_dict)\n"
   ]
  },
  {
   "cell_type": "code",
   "execution_count": 22,
   "id": "6f44b625",
   "metadata": {},
   "outputs": [],
   "source": [
    "def merge(google_results, bing_results, key, tag, subcorpus):\n",
    "    keyword_tag = key + tag\n",
    "    counter_1 = 1\n",
    "    combined_results = []\n",
    "    for google_result in google_results:\n",
    "        result_set = set()\n",
    "        result_set.update(google_result['results'])\n",
    "        for bing_result in bing_results:\n",
    "            if google_result['domain'] == bing_result['domain']:\n",
    "                result_set.update(bing_result['results'])\n",
    "        counter_2= 1\n",
    "        URL_list = []\n",
    "        for element in result_set:\n",
    "            source = []\n",
    "            if element in google_result['results']:\n",
    "                source.append('google')\n",
    "            for bing_result in bing_results:\n",
    "                if google_result['domain'] == bing_result['domain'] and element in bing_result['results']:\n",
    "                    source.append('bing')\n",
    "            URL_dict = {'result_id': keyword_tag + str(counter_1).zfill(3) + str(counter_2).zfill(3), 'URL': element, 'source': source}  \n",
    "            URL_list.append(URL_dict)\n",
    "            counter_2 = counter_2 + 1\n",
    "        search_dict = {'domain': google_result['domain'], 'domain_id': str(counter_1).zfill(3), 'keyword':google_result['key_word'], 'results': URL_list}\n",
    "        counter_1 = counter_1 + 1\n",
    "        combined_results.append(search_dict)\n",
    "        output = f\"../../4_Searches/MERGED/{subcorpus}/\"\n",
    "        with open(output + f'{keyword_tag}_merged_search_results.json', 'w') as f:\n",
    "            json.dump(combined_results, f)\n"
   ]
  },
  {
   "cell_type": "code",
   "execution_count": 23,
   "id": "ca7019b3",
   "metadata": {},
   "outputs": [
    {
     "ename": "KeyboardInterrupt",
     "evalue": "",
     "output_type": "error",
     "traceback": [
      "\u001b[0;31m---------------------------------------------------------------------------\u001b[0m",
      "\u001b[0;31mKeyboardInterrupt\u001b[0m                         Traceback (most recent call last)",
      "Cell \u001b[0;32mIn[23], line 21\u001b[0m\n\u001b[1;32m     18\u001b[0m         \u001b[38;5;28;01mwith\u001b[39;00m \u001b[38;5;28mopen\u001b[39m(path, \u001b[38;5;124m'\u001b[39m\u001b[38;5;124mr\u001b[39m\u001b[38;5;124m'\u001b[39m) \u001b[38;5;28;01mas\u001b[39;00m google:\n\u001b[1;32m     19\u001b[0m             google_results \u001b[38;5;241m=\u001b[39m json\u001b[38;5;241m.\u001b[39mload(google)\n\u001b[0;32m---> 21\u001b[0m \u001b[43mmerge\u001b[49m\u001b[43m(\u001b[49m\u001b[43mgoogle_results\u001b[49m\u001b[43m,\u001b[49m\u001b[43m \u001b[49m\u001b[43mbing_results\u001b[49m\u001b[43m,\u001b[49m\u001b[43m \u001b[49m\u001b[43mkey\u001b[49m\u001b[43m,\u001b[49m\u001b[43m \u001b[49m\u001b[43mtag\u001b[49m\u001b[43m)\u001b[49m\n",
      "Cell \u001b[0;32mIn[22], line 27\u001b[0m, in \u001b[0;36mmerge\u001b[0;34m(google_results, bing_results, key, tag)\u001b[0m\n\u001b[1;32m     25\u001b[0m combined_results\u001b[38;5;241m.\u001b[39mappend(search_dict)\n\u001b[1;32m     26\u001b[0m \u001b[38;5;28;01mwith\u001b[39;00m \u001b[38;5;28mopen\u001b[39m(\u001b[38;5;124mf\u001b[39m\u001b[38;5;124m'\u001b[39m\u001b[38;5;124mUntitled Folder/ \u001b[39m\u001b[38;5;132;01m{\u001b[39;00mkeyword_tag\u001b[38;5;132;01m}\u001b[39;00m\u001b[38;5;124m_merged_search_results.json\u001b[39m\u001b[38;5;124m'\u001b[39m, \u001b[38;5;124m'\u001b[39m\u001b[38;5;124mw\u001b[39m\u001b[38;5;124m'\u001b[39m) \u001b[38;5;28;01mas\u001b[39;00m f:\n\u001b[0;32m---> 27\u001b[0m     \u001b[43mjson\u001b[49m\u001b[38;5;241;43m.\u001b[39;49m\u001b[43mdump\u001b[49m\u001b[43m(\u001b[49m\u001b[43mcombined_results\u001b[49m\u001b[43m,\u001b[49m\u001b[43m \u001b[49m\u001b[43mf\u001b[49m\u001b[43m)\u001b[49m\n",
      "File \u001b[0;32m~/anaconda3/lib/python3.10/json/__init__.py:179\u001b[0m, in \u001b[0;36mdump\u001b[0;34m(obj, fp, skipkeys, ensure_ascii, check_circular, allow_nan, cls, indent, separators, default, sort_keys, **kw)\u001b[0m\n\u001b[1;32m    173\u001b[0m     iterable \u001b[38;5;241m=\u001b[39m \u001b[38;5;28mcls\u001b[39m(skipkeys\u001b[38;5;241m=\u001b[39mskipkeys, ensure_ascii\u001b[38;5;241m=\u001b[39mensure_ascii,\n\u001b[1;32m    174\u001b[0m         check_circular\u001b[38;5;241m=\u001b[39mcheck_circular, allow_nan\u001b[38;5;241m=\u001b[39mallow_nan, indent\u001b[38;5;241m=\u001b[39mindent,\n\u001b[1;32m    175\u001b[0m         separators\u001b[38;5;241m=\u001b[39mseparators,\n\u001b[1;32m    176\u001b[0m         default\u001b[38;5;241m=\u001b[39mdefault, sort_keys\u001b[38;5;241m=\u001b[39msort_keys, \u001b[38;5;241m*\u001b[39m\u001b[38;5;241m*\u001b[39mkw)\u001b[38;5;241m.\u001b[39miterencode(obj)\n\u001b[1;32m    177\u001b[0m \u001b[38;5;66;03m# could accelerate with writelines in some versions of Python, at\u001b[39;00m\n\u001b[1;32m    178\u001b[0m \u001b[38;5;66;03m# a debuggability cost\u001b[39;00m\n\u001b[0;32m--> 179\u001b[0m \u001b[38;5;28;01mfor\u001b[39;00m chunk \u001b[38;5;129;01min\u001b[39;00m iterable:\n\u001b[1;32m    180\u001b[0m     fp\u001b[38;5;241m.\u001b[39mwrite(chunk)\n",
      "File \u001b[0;32m~/anaconda3/lib/python3.10/json/encoder.py:429\u001b[0m, in \u001b[0;36m_make_iterencode.<locals>._iterencode\u001b[0;34m(o, _current_indent_level)\u001b[0m\n\u001b[1;32m    427\u001b[0m     \u001b[38;5;28;01myield\u001b[39;00m _floatstr(o)\n\u001b[1;32m    428\u001b[0m \u001b[38;5;28;01melif\u001b[39;00m \u001b[38;5;28misinstance\u001b[39m(o, (\u001b[38;5;28mlist\u001b[39m, \u001b[38;5;28mtuple\u001b[39m)):\n\u001b[0;32m--> 429\u001b[0m     \u001b[38;5;28;01myield from\u001b[39;00m _iterencode_list(o, _current_indent_level)\n\u001b[1;32m    430\u001b[0m \u001b[38;5;28;01melif\u001b[39;00m \u001b[38;5;28misinstance\u001b[39m(o, \u001b[38;5;28mdict\u001b[39m):\n\u001b[1;32m    431\u001b[0m     \u001b[38;5;28;01myield from\u001b[39;00m _iterencode_dict(o, _current_indent_level)\n",
      "File \u001b[0;32m~/anaconda3/lib/python3.10/json/encoder.py:325\u001b[0m, in \u001b[0;36m_make_iterencode.<locals>._iterencode_list\u001b[0;34m(lst, _current_indent_level)\u001b[0m\n\u001b[1;32m    323\u001b[0m         \u001b[38;5;28;01melse\u001b[39;00m:\n\u001b[1;32m    324\u001b[0m             chunks \u001b[38;5;241m=\u001b[39m _iterencode(value, _current_indent_level)\n\u001b[0;32m--> 325\u001b[0m         \u001b[38;5;28;01myield from\u001b[39;00m chunks\n\u001b[1;32m    326\u001b[0m \u001b[38;5;28;01mif\u001b[39;00m newline_indent \u001b[38;5;129;01mis\u001b[39;00m \u001b[38;5;129;01mnot\u001b[39;00m \u001b[38;5;28;01mNone\u001b[39;00m:\n\u001b[1;32m    327\u001b[0m     _current_indent_level \u001b[38;5;241m-\u001b[39m\u001b[38;5;241m=\u001b[39m \u001b[38;5;241m1\u001b[39m\n",
      "File \u001b[0;32m~/anaconda3/lib/python3.10/json/encoder.py:405\u001b[0m, in \u001b[0;36m_make_iterencode.<locals>._iterencode_dict\u001b[0;34m(dct, _current_indent_level)\u001b[0m\n\u001b[1;32m    403\u001b[0m         \u001b[38;5;28;01melse\u001b[39;00m:\n\u001b[1;32m    404\u001b[0m             chunks \u001b[38;5;241m=\u001b[39m _iterencode(value, _current_indent_level)\n\u001b[0;32m--> 405\u001b[0m         \u001b[38;5;28;01myield from\u001b[39;00m chunks\n\u001b[1;32m    406\u001b[0m \u001b[38;5;28;01mif\u001b[39;00m newline_indent \u001b[38;5;129;01mis\u001b[39;00m \u001b[38;5;129;01mnot\u001b[39;00m \u001b[38;5;28;01mNone\u001b[39;00m:\n\u001b[1;32m    407\u001b[0m     _current_indent_level \u001b[38;5;241m-\u001b[39m\u001b[38;5;241m=\u001b[39m \u001b[38;5;241m1\u001b[39m\n",
      "File \u001b[0;32m~/anaconda3/lib/python3.10/json/encoder.py:321\u001b[0m, in \u001b[0;36m_make_iterencode.<locals>._iterencode_list\u001b[0;34m(lst, _current_indent_level)\u001b[0m\n\u001b[1;32m    319\u001b[0m \u001b[38;5;28;01mif\u001b[39;00m \u001b[38;5;28misinstance\u001b[39m(value, (\u001b[38;5;28mlist\u001b[39m, \u001b[38;5;28mtuple\u001b[39m)):\n\u001b[1;32m    320\u001b[0m     chunks \u001b[38;5;241m=\u001b[39m _iterencode_list(value, _current_indent_level)\n\u001b[0;32m--> 321\u001b[0m \u001b[38;5;28;01melif\u001b[39;00m \u001b[38;5;28;43misinstance\u001b[39;49m\u001b[43m(\u001b[49m\u001b[43mvalue\u001b[49m\u001b[43m,\u001b[49m\u001b[43m \u001b[49m\u001b[38;5;28;43mdict\u001b[39;49m\u001b[43m)\u001b[49m:\n\u001b[1;32m    322\u001b[0m     chunks \u001b[38;5;241m=\u001b[39m _iterencode_dict(value, _current_indent_level)\n\u001b[1;32m    323\u001b[0m \u001b[38;5;28;01melse\u001b[39;00m:\n",
      "\u001b[0;31mKeyboardInterrupt\u001b[0m: "
     ]
    }
   ],
   "source": [
    "import json, os\n",
    "\n",
    "subcorpora = {\"PS\":\"\", \"TS\": \"M\", \"SE\": \"S\"}\n",
    "\n",
    "for subcorpus, key in subcorpora.items():\n",
    "    for keyword, tag in keyword_dict.items():\n",
    "        keyword_docs = []\n",
    "        for file in os.listdir(f\"../../4_Searches/RAW/{subcorpus}\"):\n",
    "            if keyword in file:\n",
    "                keyword_docs.append(file)\n",
    "        for doc in keyword_docs:\n",
    "            if \"Bing\" in doc:\n",
    "                path = os.path.join(f\"../../4_Searches/RAW/{subcorpus}\", doc)\n",
    "                with open(path, 'r') as bing:\n",
    "                    bing_results = json.load(bing)\n",
    "            if \"Google\" in doc:\n",
    "                path = os.path.join(f\"../../4_Searches/RAW/{subcorpus}\", doc)\n",
    "                with open(path, 'r') as google:\n",
    "                    google_results = json.load(google)\n",
    "        \n",
    "        merge(google_results, bing_results, key, tag)\n",
    "        "
   ]
  },
  {
   "cell_type": "code",
   "execution_count": null,
   "id": "868ddc8e",
   "metadata": {},
   "outputs": [],
   "source": [
    "\n",
    "    "
   ]
  },
  {
   "cell_type": "code",
   "execution_count": 2,
   "id": "7cad4e13",
   "metadata": {},
   "outputs": [],
   "source": []
  },
  {
   "cell_type": "code",
   "execution_count": 3,
   "id": "7315928c",
   "metadata": {},
   "outputs": [],
   "source": [
    "\n",
    "        "
   ]
  },
  {
   "cell_type": "code",
   "execution_count": 4,
   "id": "5dab44e5",
   "metadata": {},
   "outputs": [],
   "source": []
  },
  {
   "cell_type": "code",
   "execution_count": 5,
   "id": "305892e1",
   "metadata": {},
   "outputs": [],
   "source": [
    "new_list = []\n",
    "\n",
    "\n",
    "with open(f'../searches/merged search results/{keyword_tag}_merged_search_results.json', 'r') as f:\n",
    "    search_engine_results = json.load(f)\n",
    "    \n",
    "    for search_engine_result in search_engine_results:\n",
    "        domain = search_engine_result['domain']\n",
    "        results = search_engine_result['results']\n",
    "        key_word = search_engine_result['keyword']\n",
    "        for result in results:\n",
    "            if any(new_list[i]['URL'] == result for i in range(len(new_list))):\n",
    "                for i in range(len(new_list)):\n",
    "                    if new_list[i]['URL'] == result and key_word not in new_list[i]['keyword']:\n",
    "                        new_list[i]['keyword'].append(key_word)\n",
    "            else: \n",
    "                result.update({'keyword' : [key_word]})\n",
    "                new_list.append(result)\n",
    "\n",
    "                "
   ]
  },
  {
   "cell_type": "code",
   "execution_count": 6,
   "id": "e04a7a78",
   "metadata": {},
   "outputs": [],
   "source": [
    "with open('../searches/20230709 SHC_ARO_AYU_VAS_VAI_NAT_VCO_HOM_VIS_VAU_HER_HOH_NIM_VAC_VSE_VAL_search_results_for_scrape.json') as f:\n",
    "\n",
    "    combined_search_results_for_scrape = json.load(f)\n",
    "\n"
   ]
  },
  {
   "cell_type": "code",
   "execution_count": 7,
   "id": "a0989679",
   "metadata": {},
   "outputs": [
    {
     "name": "stdout",
     "output_type": "stream",
     "text": [
      "done\n"
     ]
    }
   ],
   "source": [
    "for result in new_list:\n",
    "    scraped = False\n",
    "    scrape_attempt = False\n",
    "    result.update({'scraped':scraped})\n",
    "    result.update({'scrape_attempt': scrape_attempt})\n",
    "    if not any(result['URL'] == item['URL'] for item in combined_search_results_for_scrape):\n",
    "        combined_search_results_for_scrape.append(result)\n",
    "    else:\n",
    "        for old_result in combined_search_results_for_scrape:\n",
    "            for item in result['keyword']:\n",
    "                if item not in old_result['keyword']:\n",
    "                    old_result['keyword'].append(item)\n",
    "                    \n",
    "print('done')"
   ]
  },
  {
   "cell_type": "code",
   "execution_count": 12,
   "id": "f12e7bb1",
   "metadata": {},
   "outputs": [
    {
     "name": "stdout",
     "output_type": "stream",
     "text": [
      "done\n"
     ]
    }
   ],
   "source": [
    "with open('../SE_search_results_for_scrape.json', 'w+') as f:\n",
    "\n",
    "    json.dump(combined_search_results_for_scrape, f)\n",
    "\n",
    "    \n",
    "print('done')\n"
   ]
  },
  {
   "cell_type": "code",
   "execution_count": 9,
   "id": "86c28bd5",
   "metadata": {},
   "outputs": [
    {
     "name": "stdout",
     "output_type": "stream",
     "text": [
      "done\n"
     ]
    }
   ],
   "source": [
    "\n",
    "print('done')\n",
    "\n"
   ]
  },
  {
   "cell_type": "code",
   "execution_count": 11,
   "id": "41919152",
   "metadata": {},
   "outputs": [],
   "source": [
    "import os, json\n",
    "combined_search_results_for_scrape = []\n",
    "directory = \"/Users/burce/Desktop/corpus_old approach/searches/SE merged search results\"\n",
    "\n",
    "for filename in os.listdir(directory):\n",
    "    path = os.path.join(directory, filename)\n",
    "    if \"json\" in path:\n",
    "        with open(path, \"r\") as f:\n",
    "            data = json.load(f)\n",
    "        for dics in data:\n",
    "            for result in dics[\"results\"]:\n",
    "                scraped = False\n",
    "                scrape_attempt = False\n",
    "                result.update({'scraped':scraped})\n",
    "                result.update({'scrape_attempt': scrape_attempt})\n",
    "                result[\"keyword\"] = [dics['keyword']]\n",
    "                if not any(result['URL'] == item['URL'] for item in combined_search_results_for_scrape):\n",
    "                    combined_search_results_for_scrape.append(result)\n",
    "                else:\n",
    "                    for old_result in combined_search_results_for_scrape:\n",
    "                        for item in dics['keyword']:\n",
    "                            if item not in old_result['keyword']:\n",
    "                                old_result['keyword'].append(item)\n",
    "                  \n",
    "\n",
    "            \n",
    "\n",
    "    \n",
    "    "
   ]
  },
  {
   "cell_type": "code",
   "execution_count": null,
   "id": "97bec561",
   "metadata": {},
   "outputs": [],
   "source": []
  },
  {
   "cell_type": "code",
   "execution_count": 13,
   "id": "de41f18f",
   "metadata": {},
   "outputs": [],
   "source": [
    "\n",
    "path = \"/Users/burce/Desktop/corpus_old approach/python/Combine_info/SE_id_list.json\"\n"
   ]
  },
  {
   "cell_type": "code",
   "execution_count": 14,
   "id": "fa65d3c7",
   "metadata": {},
   "outputs": [
    {
     "ename": "NameError",
     "evalue": "name 'r' is not defined",
     "output_type": "error",
     "traceback": [
      "\u001b[0;31m---------------------------------------------------------------------------\u001b[0m",
      "\u001b[0;31mNameError\u001b[0m                                 Traceback (most recent call last)",
      "Cell \u001b[0;32mIn[14], line 1\u001b[0m\n\u001b[0;32m----> 1\u001b[0m \u001b[38;5;28;01mwith\u001b[39;00m \u001b[38;5;28mopen\u001b[39m(path, \u001b[43mr\u001b[49m) \u001b[38;5;28;01mas\u001b[39;00m f:\n\u001b[1;32m      2\u001b[0m     scraped \u001b[38;5;241m=\u001b[39m json\u001b[38;5;241m.\u001b[39mload(f)\n\u001b[1;32m      4\u001b[0m new_list \u001b[38;5;241m=\u001b[39m combined_search_results_for_scrape\u001b[38;5;241m.\u001b[39mcopy()\n",
      "\u001b[0;31mNameError\u001b[0m: name 'r' is not defined"
     ]
    }
   ],
   "source": [
    "with open(path, r) as f:\n",
    "    scraped = json.load(f)\n",
    "\n",
    "new_list = combined_search_results_for_scrape.copy()\n",
    "\n",
    "for data in combined_search_results_for_scrape:\n",
    "    if data[\"result_id\"] in scraped:\n",
    "        new_list.remove(data)\n",
    "        \n",
    "\n",
    "        \n",
    "\n",
    "with open('../without_dup_SE_search_results_for_scrape.json', 'w+') as f:\n",
    "\n",
    "    json.dump(new_list, f)\n",
    "\n",
    "    \n",
    "print('done')\n"
   ]
  },
  {
   "cell_type": "code",
   "execution_count": null,
   "id": "eca71f9f",
   "metadata": {},
   "outputs": [],
   "source": []
  },
  {
   "cell_type": "code",
   "execution_count": null,
   "id": "9d7e7971",
   "metadata": {},
   "outputs": [],
   "source": []
  },
  {
   "cell_type": "code",
   "execution_count": null,
   "id": "370f503f",
   "metadata": {},
   "outputs": [],
   "source": []
  },
  {
   "cell_type": "code",
   "execution_count": null,
   "id": "114bb81e",
   "metadata": {},
   "outputs": [],
   "source": []
  },
  {
   "cell_type": "code",
   "execution_count": null,
   "id": "cd8ab1fa",
   "metadata": {
    "scrolled": false
   },
   "outputs": [],
   "source": []
  },
  {
   "cell_type": "code",
   "execution_count": null,
   "id": "a3ae1880",
   "metadata": {},
   "outputs": [],
   "source": []
  },
  {
   "cell_type": "code",
   "execution_count": null,
   "id": "54a3d9ec",
   "metadata": {},
   "outputs": [],
   "source": []
  },
  {
   "cell_type": "code",
   "execution_count": null,
   "id": "5d2d266e",
   "metadata": {},
   "outputs": [],
   "source": []
  },
  {
   "cell_type": "code",
   "execution_count": null,
   "id": "a6f778dc",
   "metadata": {},
   "outputs": [],
   "source": []
  }
 ],
 "metadata": {
  "kernelspec": {
   "display_name": "Python 3 (ipykernel)",
   "language": "python",
   "name": "python3"
  },
  "language_info": {
   "codemirror_mode": {
    "name": "ipython",
    "version": 3
   },
   "file_extension": ".py",
   "mimetype": "text/x-python",
   "name": "python",
   "nbconvert_exporter": "python",
   "pygments_lexer": "ipython3",
   "version": "3.10.11"
  }
 },
 "nbformat": 4,
 "nbformat_minor": 5
}
