{
 "cells": [
  {
   "cell_type": "code",
   "execution_count": 3,
   "id": "e9c6693f",
   "metadata": {},
   "outputs": [],
   "source": [
    "combined_results = []"
   ]
  },
  {
   "cell_type": "code",
   "execution_count": 2,
   "id": "7cad4e13",
   "metadata": {},
   "outputs": [],
   "source": [
    "####keyword: vaccine\n",
    "\n",
    "keyword_tag = \"ANT\"\n",
    "\n",
    "import json\n",
    "\n",
    "#BING\n",
    "\n",
    "with open('Search results (Annotated)/search_results_Bing_2023-06-20_anthroposophic medicine.json', 'r') as bing:\n",
    "    bing_results = json.load(bing)\n",
    "    \n",
    "    \n",
    "\n",
    "\n",
    "    \n",
    "#GOOGLE\n",
    "with open('Search results (Annotated)/search_results_Google_2023-07-04_anthroposophic medicine.json', 'r') as google:\n",
    "    google_results = json.load(google)\n",
    "    \n",
    "    "
   ]
  },
  {
   "cell_type": "code",
   "execution_count": 3,
   "id": "7315928c",
   "metadata": {},
   "outputs": [],
   "source": [
    "counter_1 = 1\n",
    "combined_results = []\n",
    "for google_result in google_results:\n",
    "    result_set = set()\n",
    "    result_set.update(google_result['results'])\n",
    "    for bing_result in bing_results:\n",
    "        if google_result['domain'] == bing_result['domain']:\n",
    "            result_set.update(bing_result['results'])\n",
    "    counter_2= 1\n",
    "    URL_list = []\n",
    "    for element in result_set:\n",
    "        source = []\n",
    "        if element in google_result['results']:\n",
    "            source.append('google')\n",
    "        for bing_result in bing_results:\n",
    "            if google_result['domain'] == bing_result['domain'] and element in bing_result['results']:\n",
    "                source.append('bing')\n",
    "        URL_dict = {'result_id': keyword_tag + str(counter_1).zfill(3) + str(counter_2).zfill(3), 'URL': element, 'source': source}  \n",
    "        URL_list.append(URL_dict)\n",
    "        counter_2 = counter_2 + 1\n",
    "    search_dict = {'domain': google_result['domain'], 'domain_id': str(counter_1).zfill(3), 'keyword':google_result['key_word'], 'results': URL_list}\n",
    "    counter_1 = counter_1 + 1\n",
    "    combined_results.append(search_dict)\n",
    "        "
   ]
  },
  {
   "cell_type": "code",
   "execution_count": 4,
   "id": "5dab44e5",
   "metadata": {},
   "outputs": [],
   "source": [
    "with open(f'../searches/merged search results/{keyword_tag}_merged_search_results.json', 'w') as f:\n",
    "    json.dump(combined_results, f)"
   ]
  },
  {
   "cell_type": "code",
   "execution_count": 5,
   "id": "305892e1",
   "metadata": {},
   "outputs": [],
   "source": [
    "new_list = []\n",
    "\n",
    "\n",
    "with open(f'../searches/merged search results/{keyword_tag}_merged_search_results.json', 'r') as f:\n",
    "    search_engine_results = json.load(f)\n",
    "    \n",
    "    for search_engine_result in search_engine_results:\n",
    "        domain = search_engine_result['domain']\n",
    "        results = search_engine_result['results']\n",
    "        key_word = search_engine_result['keyword']\n",
    "        for result in results:\n",
    "            if any(new_list[i]['URL'] == result for i in range(len(new_list))):\n",
    "                for i in range(len(new_list)):\n",
    "                    if new_list[i]['URL'] == result and key_word not in new_list[i]['keyword']:\n",
    "                        new_list[i]['keyword'].append(key_word)\n",
    "            else: \n",
    "                result.update({'keyword' : [key_word]})\n",
    "                new_list.append(result)\n",
    "\n",
    "                "
   ]
  },
  {
   "cell_type": "code",
   "execution_count": 6,
   "id": "e04a7a78",
   "metadata": {},
   "outputs": [],
   "source": [
    "\n"
   ]
  },
  {
   "cell_type": "code",
   "execution_count": 7,
   "id": "a0989679",
   "metadata": {},
   "outputs": [
    {
     "name": "stdout",
     "output_type": "stream",
     "text": [
      "done\n"
     ]
    }
   ],
   "source": []
  },
  {
   "cell_type": "code",
   "execution_count": 12,
   "id": "f12e7bb1",
   "metadata": {},
   "outputs": [
    {
     "name": "stdout",
     "output_type": "stream",
     "text": [
      "done\n"
     ]
    }
   ],
   "source": []
  },
  {
   "cell_type": "code",
   "execution_count": 9,
   "id": "86c28bd5",
   "metadata": {},
   "outputs": [
    {
     "name": "stdout",
     "output_type": "stream",
     "text": [
      "done\n"
     ]
    }
   ],
   "source": [
    "\n"
   ]
  },
  {
   "cell_type": "code",
   "execution_count": 11,
   "id": "41919152",
   "metadata": {},
   "outputs": [],
   "source": []
  },
  {
   "cell_type": "code",
   "execution_count": null,
   "id": "97bec561",
   "metadata": {},
   "outputs": [],
   "source": []
  },
  {
   "cell_type": "code",
   "execution_count": 13,
   "id": "de41f18f",
   "metadata": {},
   "outputs": [],
   "source": []
  },
  {
   "cell_type": "code",
   "execution_count": 14,
   "id": "fa65d3c7",
   "metadata": {},
   "outputs": [
    {
     "ename": "NameError",
     "evalue": "name 'r' is not defined",
     "output_type": "error",
     "traceback": [
      "\u001b[0;31m---------------------------------------------------------------------------\u001b[0m",
      "\u001b[0;31mNameError\u001b[0m                                 Traceback (most recent call last)",
      "Cell \u001b[0;32mIn[14], line 1\u001b[0m\n\u001b[0;32m----> 1\u001b[0m \u001b[38;5;28;01mwith\u001b[39;00m \u001b[38;5;28mopen\u001b[39m(path, \u001b[43mr\u001b[49m) \u001b[38;5;28;01mas\u001b[39;00m f:\n\u001b[1;32m      2\u001b[0m     scraped \u001b[38;5;241m=\u001b[39m json\u001b[38;5;241m.\u001b[39mload(f)\n\u001b[1;32m      4\u001b[0m new_list \u001b[38;5;241m=\u001b[39m combined_search_results_for_scrape\u001b[38;5;241m.\u001b[39mcopy()\n",
      "\u001b[0;31mNameError\u001b[0m: name 'r' is not defined"
     ]
    }
   ],
   "source": []
  },
  {
   "cell_type": "code",
   "execution_count": null,
   "id": "eca71f9f",
   "metadata": {},
   "outputs": [],
   "source": []
  },
  {
   "cell_type": "code",
   "execution_count": null,
   "id": "9d7e7971",
   "metadata": {},
   "outputs": [],
   "source": []
  },
  {
   "cell_type": "code",
   "execution_count": null,
   "id": "370f503f",
   "metadata": {},
   "outputs": [],
   "source": []
  },
  {
   "cell_type": "code",
   "execution_count": null,
   "id": "114bb81e",
   "metadata": {},
   "outputs": [],
   "source": []
  },
  {
   "cell_type": "code",
   "execution_count": null,
   "id": "cd8ab1fa",
   "metadata": {
    "scrolled": false
   },
   "outputs": [],
   "source": []
  },
  {
   "cell_type": "code",
   "execution_count": null,
   "id": "a3ae1880",
   "metadata": {},
   "outputs": [],
   "source": []
  },
  {
   "cell_type": "code",
   "execution_count": null,
   "id": "54a3d9ec",
   "metadata": {},
   "outputs": [],
   "source": []
  },
  {
   "cell_type": "code",
   "execution_count": null,
   "id": "5d2d266e",
   "metadata": {},
   "outputs": [],
   "source": []
  },
  {
   "cell_type": "code",
   "execution_count": null,
   "id": "a6f778dc",
   "metadata": {},
   "outputs": [],
   "source": []
  }
 ],
 "metadata": {
  "kernelspec": {
   "display_name": "Python 3 (ipykernel)",
   "language": "python",
   "name": "python3"
  },
  "language_info": {
   "codemirror_mode": {
    "name": "ipython",
    "version": 3
   },
   "file_extension": ".py",
   "mimetype": "text/x-python",
   "name": "python",
   "nbconvert_exporter": "python",
   "pygments_lexer": "ipython3",
   "version": "3.10.11"
  }
 },
 "nbformat": 4,
 "nbformat_minor": 5
}
